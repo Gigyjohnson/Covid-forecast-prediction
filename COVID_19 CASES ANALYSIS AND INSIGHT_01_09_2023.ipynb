{
 "cells": [
  {
   "cell_type": "code",
   "execution_count": 1,
   "id": "c1083ab6",
   "metadata": {},
   "outputs": [],
   "source": [
    "import warnings\n",
    "import itertools\n",
    "import numpy as np\n",
    "import matplotlib.pyplot as plt\n",
    "%matplotlib inline\n",
    "warnings.filterwarnings(\"ignore\")\n",
    "plt.style.use('fivethirtyeight')\n",
    "import pandas as pd\n",
    "import statsmodels.api as sm\n",
    "import matplotlib\n",
    "matplotlib.rcParams['axes.labelsize'] = 14\n",
    "matplotlib.rcParams['xtick.labelsize'] = 12\n",
    "matplotlib.rcParams['ytick.labelsize'] = 12\n",
    "matplotlib.rcParams['text.color'] = 'k'\n",
    "from datetime import date\n",
    "import plotly.offline as po\n",
    "import plotly.graph_objs as go\n",
    "%matplotlib inline\n",
    "plt.style.use('ggplot') #gglot style\n",
    "import seaborn as sns #Enhanced plot library\n",
    "\n",
    "\n",
    "from datetime import datetime, timedelta\n",
    "\n",
    "import warnings\n",
    "warnings.filterwarnings(\"ignore\")\n"
   ]
  },
  {
   "cell_type": "code",
   "execution_count": 2,
   "id": "a30e0b3a",
   "metadata": {},
   "outputs": [],
   "source": [
    "df=pd.read_excel('COVID-19-geographic-disbtribution-worldwide.xlsx')"
   ]
  },
  {
   "cell_type": "markdown",
   "id": "104f50d0",
   "metadata": {},
   "source": [
    "#### EXPLORATORY DATA ANALYSIS AND DATA WRANGLING"
   ]
  },
  {
   "cell_type": "code",
   "execution_count": 3,
   "id": "647fffc3",
   "metadata": {
    "scrolled": true
   },
   "outputs": [
    {
     "data": {
      "text/html": [
       "<div>\n",
       "<style scoped>\n",
       "    .dataframe tbody tr th:only-of-type {\n",
       "        vertical-align: middle;\n",
       "    }\n",
       "\n",
       "    .dataframe tbody tr th {\n",
       "        vertical-align: top;\n",
       "    }\n",
       "\n",
       "    .dataframe thead th {\n",
       "        text-align: right;\n",
       "    }\n",
       "</style>\n",
       "<table border=\"1\" class=\"dataframe\">\n",
       "  <thead>\n",
       "    <tr style=\"text-align: right;\">\n",
       "      <th></th>\n",
       "      <th>dateRep</th>\n",
       "      <th>day</th>\n",
       "      <th>month</th>\n",
       "      <th>year</th>\n",
       "      <th>cases</th>\n",
       "      <th>deaths</th>\n",
       "      <th>countriesAndTerritories</th>\n",
       "      <th>geoId</th>\n",
       "      <th>countryterritoryCode</th>\n",
       "      <th>popData2019</th>\n",
       "      <th>continentExp</th>\n",
       "      <th>Cumulative_number_for_14_days_of_COVID-19_cases_per_100000</th>\n",
       "    </tr>\n",
       "  </thead>\n",
       "  <tbody>\n",
       "    <tr>\n",
       "      <th>0</th>\n",
       "      <td>2020-11-26</td>\n",
       "      <td>26</td>\n",
       "      <td>11</td>\n",
       "      <td>2020</td>\n",
       "      <td>200</td>\n",
       "      <td>12</td>\n",
       "      <td>Afghanistan</td>\n",
       "      <td>AF</td>\n",
       "      <td>AFG</td>\n",
       "      <td>38041757.0</td>\n",
       "      <td>Asia</td>\n",
       "      <td>7.341932</td>\n",
       "    </tr>\n",
       "    <tr>\n",
       "      <th>1</th>\n",
       "      <td>2020-11-25</td>\n",
       "      <td>25</td>\n",
       "      <td>11</td>\n",
       "      <td>2020</td>\n",
       "      <td>185</td>\n",
       "      <td>13</td>\n",
       "      <td>Afghanistan</td>\n",
       "      <td>AF</td>\n",
       "      <td>AFG</td>\n",
       "      <td>38041757.0</td>\n",
       "      <td>Asia</td>\n",
       "      <td>7.199983</td>\n",
       "    </tr>\n",
       "    <tr>\n",
       "      <th>2</th>\n",
       "      <td>2020-11-24</td>\n",
       "      <td>24</td>\n",
       "      <td>11</td>\n",
       "      <td>2020</td>\n",
       "      <td>246</td>\n",
       "      <td>17</td>\n",
       "      <td>Afghanistan</td>\n",
       "      <td>AF</td>\n",
       "      <td>AFG</td>\n",
       "      <td>38041757.0</td>\n",
       "      <td>Asia</td>\n",
       "      <td>6.713675</td>\n",
       "    </tr>\n",
       "    <tr>\n",
       "      <th>3</th>\n",
       "      <td>2020-11-23</td>\n",
       "      <td>23</td>\n",
       "      <td>11</td>\n",
       "      <td>2020</td>\n",
       "      <td>252</td>\n",
       "      <td>8</td>\n",
       "      <td>Afghanistan</td>\n",
       "      <td>AF</td>\n",
       "      <td>AFG</td>\n",
       "      <td>38041757.0</td>\n",
       "      <td>Asia</td>\n",
       "      <td>6.655844</td>\n",
       "    </tr>\n",
       "    <tr>\n",
       "      <th>4</th>\n",
       "      <td>2020-11-22</td>\n",
       "      <td>22</td>\n",
       "      <td>11</td>\n",
       "      <td>2020</td>\n",
       "      <td>154</td>\n",
       "      <td>12</td>\n",
       "      <td>Afghanistan</td>\n",
       "      <td>AF</td>\n",
       "      <td>AFG</td>\n",
       "      <td>38041757.0</td>\n",
       "      <td>Asia</td>\n",
       "      <td>6.203709</td>\n",
       "    </tr>\n",
       "  </tbody>\n",
       "</table>\n",
       "</div>"
      ],
      "text/plain": [
       "     dateRep  day  month  year  cases  deaths countriesAndTerritories geoId  \\\n",
       "0 2020-11-26   26     11  2020    200      12             Afghanistan    AF   \n",
       "1 2020-11-25   25     11  2020    185      13             Afghanistan    AF   \n",
       "2 2020-11-24   24     11  2020    246      17             Afghanistan    AF   \n",
       "3 2020-11-23   23     11  2020    252       8             Afghanistan    AF   \n",
       "4 2020-11-22   22     11  2020    154      12             Afghanistan    AF   \n",
       "\n",
       "  countryterritoryCode  popData2019 continentExp  \\\n",
       "0                  AFG   38041757.0         Asia   \n",
       "1                  AFG   38041757.0         Asia   \n",
       "2                  AFG   38041757.0         Asia   \n",
       "3                  AFG   38041757.0         Asia   \n",
       "4                  AFG   38041757.0         Asia   \n",
       "\n",
       "   Cumulative_number_for_14_days_of_COVID-19_cases_per_100000  \n",
       "0                                           7.341932           \n",
       "1                                           7.199983           \n",
       "2                                           6.713675           \n",
       "3                                           6.655844           \n",
       "4                                           6.203709           "
      ]
     },
     "execution_count": 3,
     "metadata": {},
     "output_type": "execute_result"
    }
   ],
   "source": [
    "df.head()"
   ]
  },
  {
   "cell_type": "code",
   "execution_count": 4,
   "id": "58036ef1",
   "metadata": {},
   "outputs": [
    {
     "data": {
      "text/plain": [
       "(58066, 12)"
      ]
     },
     "execution_count": 4,
     "metadata": {},
     "output_type": "execute_result"
    }
   ],
   "source": [
    "df.shape"
   ]
  },
  {
   "cell_type": "code",
   "execution_count": 5,
   "id": "9d0a15ea",
   "metadata": {},
   "outputs": [
    {
     "name": "stdout",
     "output_type": "stream",
     "text": [
      "<class 'pandas.core.frame.DataFrame'>\n",
      "RangeIndex: 58066 entries, 0 to 58065\n",
      "Data columns (total 12 columns):\n",
      " #   Column                                                      Non-Null Count  Dtype         \n",
      "---  ------                                                      --------------  -----         \n",
      " 0   dateRep                                                     58066 non-null  datetime64[ns]\n",
      " 1   day                                                         58066 non-null  int64         \n",
      " 2   month                                                       58066 non-null  int64         \n",
      " 3   year                                                        58066 non-null  int64         \n",
      " 4   cases                                                       58066 non-null  int64         \n",
      " 5   deaths                                                      58066 non-null  int64         \n",
      " 6   countriesAndTerritories                                     58066 non-null  object        \n",
      " 7   geoId                                                       57809 non-null  object        \n",
      " 8   countryterritoryCode                                        57961 non-null  object        \n",
      " 9   popData2019                                                 57961 non-null  float64       \n",
      " 10  continentExp                                                58066 non-null  object        \n",
      " 11  Cumulative_number_for_14_days_of_COVID-19_cases_per_100000  55205 non-null  float64       \n",
      "dtypes: datetime64[ns](1), float64(2), int64(5), object(4)\n",
      "memory usage: 5.3+ MB\n"
     ]
    }
   ],
   "source": [
    "df.info()"
   ]
  },
  {
   "cell_type": "code",
   "execution_count": 6,
   "id": "6019a13a",
   "metadata": {},
   "outputs": [],
   "source": [
    "num = df['cases']._get_numeric_data()"
   ]
  },
  {
   "cell_type": "code",
   "execution_count": 7,
   "id": "e257dfb4",
   "metadata": {},
   "outputs": [],
   "source": [
    "num[num < 0] = 0"
   ]
  },
  {
   "cell_type": "code",
   "execution_count": 8,
   "id": "f2f1348c",
   "metadata": {},
   "outputs": [
    {
     "data": {
      "text/plain": [
       "Index(['dateRep', 'day', 'month', 'year', 'cases', 'deaths',\n",
       "       'countriesAndTerritories', 'geoId', 'countryterritoryCode',\n",
       "       'popData2019', 'continentExp',\n",
       "       'Cumulative_number_for_14_days_of_COVID-19_cases_per_100000'],\n",
       "      dtype='object')"
      ]
     },
     "execution_count": 8,
     "metadata": {},
     "output_type": "execute_result"
    }
   ],
   "source": [
    "df.columns"
   ]
  },
  {
   "cell_type": "code",
   "execution_count": 9,
   "id": "133570f5",
   "metadata": {},
   "outputs": [
    {
     "data": {
      "text/plain": [
       "array(['Afghanistan', 'Albania', 'Algeria', 'Andorra', 'Angola',\n",
       "       'Anguilla', 'Antigua_and_Barbuda', 'Argentina', 'Armenia', 'Aruba',\n",
       "       'Australia', 'Austria', 'Azerbaijan', 'Bahamas', 'Bahrain',\n",
       "       'Bangladesh', 'Barbados', 'Belarus', 'Belgium', 'Belize', 'Benin',\n",
       "       'Bermuda', 'Bhutan', 'Bolivia',\n",
       "       'Bonaire, Saint Eustatius and Saba', 'Bosnia_and_Herzegovina',\n",
       "       'Botswana', 'Brazil', 'British_Virgin_Islands',\n",
       "       'Brunei_Darussalam', 'Bulgaria', 'Burkina_Faso', 'Burundi',\n",
       "       'Cambodia', 'Cameroon', 'Canada', 'Cape_Verde',\n",
       "       'Cases_on_an_international_conveyance_Japan', 'Cayman_Islands',\n",
       "       'Central_African_Republic', 'Chad', 'Chile', 'China', 'Colombia',\n",
       "       'Comoros', 'Congo', 'Costa_Rica', 'Cote_dIvoire', 'Croatia',\n",
       "       'Cuba', 'CuraÃ§ao', 'Cyprus', 'Czechia',\n",
       "       'Democratic_Republic_of_the_Congo', 'Denmark', 'Djibouti',\n",
       "       'Dominica', 'Dominican_Republic', 'Ecuador', 'Egypt',\n",
       "       'El_Salvador', 'Equatorial_Guinea', 'Eritrea', 'Estonia',\n",
       "       'Eswatini', 'Ethiopia', 'Falkland_Islands_(Malvinas)',\n",
       "       'Faroe_Islands', 'Fiji', 'Finland', 'France', 'French_Polynesia',\n",
       "       'Gabon', 'Gambia', 'Georgia', 'Germany', 'Ghana', 'Gibraltar',\n",
       "       'Greece', 'Greenland', 'Grenada', 'Guam', 'Guatemala', 'Guernsey',\n",
       "       'Guinea', 'Guinea_Bissau', 'Guyana', 'Haiti', 'Holy_See',\n",
       "       'Honduras', 'Hungary', 'Iceland', 'India', 'Indonesia', 'Iran',\n",
       "       'Iraq', 'Ireland', 'Isle_of_Man', 'Israel', 'Italy', 'Jamaica',\n",
       "       'Japan', 'Jersey', 'Jordan', 'Kazakhstan', 'Kenya', 'Kosovo',\n",
       "       'Kuwait', 'Kyrgyzstan', 'Laos', 'Latvia', 'Lebanon', 'Lesotho',\n",
       "       'Liberia', 'Libya', 'Liechtenstein', 'Lithuania', 'Luxembourg',\n",
       "       'Madagascar', 'Malawi', 'Malaysia', 'Maldives', 'Mali', 'Malta',\n",
       "       'Marshall_Islands', 'Mauritania', 'Mauritius', 'Mexico', 'Moldova',\n",
       "       'Monaco', 'Mongolia', 'Montenegro', 'Montserrat', 'Morocco',\n",
       "       'Mozambique', 'Myanmar', 'Namibia', 'Nepal', 'Netherlands',\n",
       "       'New_Caledonia', 'New_Zealand', 'Nicaragua', 'Niger', 'Nigeria',\n",
       "       'North_Macedonia', 'Northern_Mariana_Islands', 'Norway', 'Oman',\n",
       "       'Pakistan', 'Palestine', 'Panama', 'Papua_New_Guinea', 'Paraguay',\n",
       "       'Peru', 'Philippines', 'Poland', 'Portugal', 'Puerto_Rico',\n",
       "       'Qatar', 'Romania', 'Russia', 'Rwanda', 'Saint_Kitts_and_Nevis',\n",
       "       'Saint_Lucia', 'Saint_Vincent_and_the_Grenadines', 'San_Marino',\n",
       "       'Sao_Tome_and_Principe', 'Saudi_Arabia', 'Senegal', 'Serbia',\n",
       "       'Seychelles', 'Sierra_Leone', 'Singapore', 'Sint_Maarten',\n",
       "       'Slovakia', 'Slovenia', 'Solomon_Islands', 'Somalia',\n",
       "       'South_Africa', 'South_Korea', 'South_Sudan', 'Spain', 'Sri_Lanka',\n",
       "       'Sudan', 'Suriname', 'Sweden', 'Switzerland', 'Syria', 'Taiwan',\n",
       "       'Tajikistan', 'Thailand', 'Timor_Leste', 'Togo',\n",
       "       'Trinidad_and_Tobago', 'Tunisia', 'Turkey',\n",
       "       'Turks_and_Caicos_islands', 'Uganda', 'Ukraine',\n",
       "       'United_Arab_Emirates', 'United_Kingdom',\n",
       "       'United_Republic_of_Tanzania', 'United_States_of_America',\n",
       "       'United_States_Virgin_Islands', 'Uruguay', 'Uzbekistan', 'Vanuatu',\n",
       "       'Venezuela', 'Vietnam', 'Wallis_and_Futuna', 'Western_Sahara',\n",
       "       'Yemen', 'Zambia', 'Zimbabwe'], dtype=object)"
      ]
     },
     "execution_count": 9,
     "metadata": {},
     "output_type": "execute_result"
    }
   ],
   "source": [
    "df.countriesAndTerritories.unique()"
   ]
  },
  {
   "cell_type": "code",
   "execution_count": 10,
   "id": "e3cf0371",
   "metadata": {},
   "outputs": [],
   "source": [
    "Stat_Data=df[['cases','countriesAndTerritories']]"
   ]
  },
  {
   "cell_type": "code",
   "execution_count": 14,
   "id": "437cf04a",
   "metadata": {},
   "outputs": [
    {
     "name": "stdout",
     "output_type": "stream",
     "text": [
      "Country Name: South_Korea\n",
      "            cases\n",
      "count  332.000000\n",
      "mean    97.343373\n",
      "std    127.341642\n",
      "min      0.000000\n",
      "25%     17.750000\n",
      "50%     54.000000\n",
      "75%    118.250000\n",
      "max    909.000000\n",
      "[[<Axes: title={'center': 'cases'}>]]\n"
     ]
    },
    {
     "data": {
      "image/png": "[encoded data removed]",
      "text/plain": [
       "<Figure size 640x480 with 1 Axes>"
      ]
     },
     "metadata": {},
     "output_type": "display_data"
    }
   ],
   "source": [
    "Country = input('Country Name: ')\n",
    "\n",
    "def basicstat(Country):\n",
    "        \n",
    "        basic_stat_c= Stat_Data[Stat_Data['countriesAndTerritories'] == Country].describe()\n",
    "        \n",
    "        basic_hist_c= Stat_Data[Stat_Data['countriesAndTerritories'] == Country].hist()\n",
    "        print(basic_stat_c)\n",
    "        \n",
    "        print(basic_hist_c)\n",
    "        \n",
    "        return\n",
    "    \n",
    "basicstat(Country)\n",
    "        "
   ]
  },
  {
   "cell_type": "code",
   "execution_count": 20,
   "id": "fd4b5575",
   "metadata": {},
   "outputs": [
    {
     "data": {
      "image/png": "[encoded data removed]",
      "text/plain": [
       "<Figure size 600x400 with 1 Axes>"
      ]
     },
     "metadata": {},
     "output_type": "display_data"
    }
   ],
   "source": [
    "df_cc =df.groupby('countriesAndTerritories', as_index=False)['cases'].sum()\n",
    "df_cc2= df_cc.nlargest(10, 'cases')\n",
    "\n",
    "#Show bar Chart\n",
    "plt.figure(figsize=(6,4))\n",
    "sns.barplot(data=df_cc2, x='cases', y='countriesAndTerritories')\n",
    "plt.title('Top 10 Highest Covid cases by Country', fontsize=14)\n",
    "plt.xlabel('Cases Counts', fontsize=12)\n",
    "plt.ylabel('Countries', fontsize=12)\n",
    "plt.xticks(rotation=45)  # Rotate x-axis labels for better readability\n",
    "plt.show()"
   ]
  },
  {
   "cell_type": "markdown",
   "id": "efb7cd57",
   "metadata": {},
   "source": [
    "### Integrating the weather data"
   ]
  },
  {
   "cell_type": "code",
   "execution_count": 22,
   "id": "a00ba37d",
   "metadata": {},
   "outputs": [],
   "source": [
    "wdd=pd.read_csv('weather.csv')"
   ]
  },
  {
   "cell_type": "code",
   "execution_count": 23,
   "id": "86545e75",
   "metadata": {},
   "outputs": [
    {
     "data": {
      "text/html": [
       "<div>\n",
       "<style scoped>\n",
       "    .dataframe tbody tr th:only-of-type {\n",
       "        vertical-align: middle;\n",
       "    }\n",
       "\n",
       "    .dataframe tbody tr th {\n",
       "        vertical-align: top;\n",
       "    }\n",
       "\n",
       "    .dataframe thead th {\n",
       "        text-align: right;\n",
       "    }\n",
       "</style>\n",
       "<table border=\"1\" class=\"dataframe\">\n",
       "  <thead>\n",
       "    <tr style=\"text-align: right;\">\n",
       "      <th></th>\n",
       "      <th>date</th>\n",
       "      <th>location_key</th>\n",
       "      <th>average_temperature_celsius</th>\n",
       "      <th>minimum_temperature_celsius</th>\n",
       "      <th>maximum_temperature_celsius</th>\n",
       "      <th>rainfall_mm</th>\n",
       "      <th>snowfall_mm</th>\n",
       "      <th>dew_point</th>\n",
       "      <th>relative_humidity</th>\n",
       "    </tr>\n",
       "  </thead>\n",
       "  <tbody>\n",
       "    <tr>\n",
       "      <th>0</th>\n",
       "      <td>2020-01-01</td>\n",
       "      <td>AD</td>\n",
       "      <td>4.236111</td>\n",
       "      <td>0.138889</td>\n",
       "      <td>8.208333</td>\n",
       "      <td>3.302000</td>\n",
       "      <td>NaN</td>\n",
       "      <td>-0.972222</td>\n",
       "      <td>72.773049</td>\n",
       "    </tr>\n",
       "    <tr>\n",
       "      <th>1</th>\n",
       "      <td>2020-01-02</td>\n",
       "      <td>AD</td>\n",
       "      <td>3.875000</td>\n",
       "      <td>-0.722222</td>\n",
       "      <td>10.055556</td>\n",
       "      <td>6.688667</td>\n",
       "      <td>NaN</td>\n",
       "      <td>-1.625000</td>\n",
       "      <td>70.841314</td>\n",
       "    </tr>\n",
       "    <tr>\n",
       "      <th>2</th>\n",
       "      <td>2020-01-03</td>\n",
       "      <td>AD</td>\n",
       "      <td>4.763889</td>\n",
       "      <td>0.597222</td>\n",
       "      <td>8.402778</td>\n",
       "      <td>5.016500</td>\n",
       "      <td>NaN</td>\n",
       "      <td>-0.611111</td>\n",
       "      <td>71.117248</td>\n",
       "    </tr>\n",
       "    <tr>\n",
       "      <th>3</th>\n",
       "      <td>2020-01-04</td>\n",
       "      <td>AD</td>\n",
       "      <td>4.555556</td>\n",
       "      <td>1.125000</td>\n",
       "      <td>8.708333</td>\n",
       "      <td>3.810000</td>\n",
       "      <td>NaN</td>\n",
       "      <td>0.722222</td>\n",
       "      <td>77.338640</td>\n",
       "    </tr>\n",
       "    <tr>\n",
       "      <th>4</th>\n",
       "      <td>2020-01-05</td>\n",
       "      <td>AD</td>\n",
       "      <td>4.763889</td>\n",
       "      <td>-1.000000</td>\n",
       "      <td>11.361111</td>\n",
       "      <td>2.476500</td>\n",
       "      <td>NaN</td>\n",
       "      <td>-3.361111</td>\n",
       "      <td>60.762380</td>\n",
       "    </tr>\n",
       "  </tbody>\n",
       "</table>\n",
       "</div>"
      ],
      "text/plain": [
       "         date location_key  average_temperature_celsius  \\\n",
       "0  2020-01-01           AD                     4.236111   \n",
       "1  2020-01-02           AD                     3.875000   \n",
       "2  2020-01-03           AD                     4.763889   \n",
       "3  2020-01-04           AD                     4.555556   \n",
       "4  2020-01-05           AD                     4.763889   \n",
       "\n",
       "   minimum_temperature_celsius  maximum_temperature_celsius  rainfall_mm  \\\n",
       "0                     0.138889                     8.208333     3.302000   \n",
       "1                    -0.722222                    10.055556     6.688667   \n",
       "2                     0.597222                     8.402778     5.016500   \n",
       "3                     1.125000                     8.708333     3.810000   \n",
       "4                    -1.000000                    11.361111     2.476500   \n",
       "\n",
       "   snowfall_mm  dew_point  relative_humidity  \n",
       "0          NaN  -0.972222          72.773049  \n",
       "1          NaN  -1.625000          70.841314  \n",
       "2          NaN  -0.611111          71.117248  \n",
       "3          NaN   0.722222          77.338640  \n",
       "4          NaN  -3.361111          60.762380  "
      ]
     },
     "execution_count": 23,
     "metadata": {},
     "output_type": "execute_result"
    }
   ],
   "source": [
    "wdd.head()"
   ]
  },
  {
   "cell_type": "code",
   "execution_count": 24,
   "id": "3b193fb1",
   "metadata": {},
   "outputs": [
    {
     "name": "stdout",
     "output_type": "stream",
     "text": [
      "<class 'pandas.core.frame.DataFrame'>\n",
      "RangeIndex: 21680590 entries, 0 to 21680589\n",
      "Data columns (total 9 columns):\n",
      " #   Column                       Dtype  \n",
      "---  ------                       -----  \n",
      " 0   date                         object \n",
      " 1   location_key                 object \n",
      " 2   average_temperature_celsius  float64\n",
      " 3   minimum_temperature_celsius  float64\n",
      " 4   maximum_temperature_celsius  float64\n",
      " 5   rainfall_mm                  float64\n",
      " 6   snowfall_mm                  float64\n",
      " 7   dew_point                    float64\n",
      " 8   relative_humidity            float64\n",
      "dtypes: float64(7), object(2)\n",
      "memory usage: 1.5+ GB\n"
     ]
    }
   ],
   "source": [
    "wdd.info()"
   ]
  },
  {
   "cell_type": "code",
   "execution_count": null,
   "id": "0cc15095",
   "metadata": {},
   "outputs": [],
   "source": [
    "df.rename(columns={\"geoId\": \"location_key\"}, inplace=True)"
   ]
  },
  {
   "cell_type": "code",
   "execution_count": null,
   "id": "53334d92",
   "metadata": {},
   "outputs": [],
   "source": [
    "df.rename(columns={\"dateRep\": \"date\"}, inplace=True)"
   ]
  },
  {
   "cell_type": "code",
   "execution_count": null,
   "id": "62f8abd3",
   "metadata": {},
   "outputs": [],
   "source": [
    "import datetime as dt"
   ]
  },
  {
   "cell_type": "code",
   "execution_count": null,
   "id": "7b1dca28",
   "metadata": {},
   "outputs": [],
   "source": [
    "df[\"date\"]=pd.to_datetime(df[\"date\"])"
   ]
  },
  {
   "cell_type": "code",
   "execution_count": null,
   "id": "e53647e9",
   "metadata": {},
   "outputs": [],
   "source": [
    "wdd[\"date\"]=pd.to_datetime(wdd[\"date\"])"
   ]
  },
  {
   "cell_type": "code",
   "execution_count": null,
   "id": "92e840a2",
   "metadata": {},
   "outputs": [],
   "source": [
    "df[\"date\"].min(), df[\"date\"].max()"
   ]
  },
  {
   "cell_type": "code",
   "execution_count": null,
   "id": "70b3f9ed",
   "metadata": {},
   "outputs": [],
   "source": [
    "wdd[\"date\"].min(), wdd[\"date\"].max()"
   ]
  },
  {
   "cell_type": "code",
   "execution_count": null,
   "id": "4c1bdd47",
   "metadata": {},
   "outputs": [],
   "source": [
    "#Extract weather data for '2020-01-01' to '2020-11-26'\n",
    "wds = pd.DataFrame(wdd)\n",
    "start_date = '2020-01-01'\n",
    "end_date = '2020-11-26'\n",
    "mask = (wds['date'] > start_date) & (wds['date'] <= end_date)\n",
    "  \n",
    "wds=wdd.loc[mask]"
   ]
  },
  {
   "cell_type": "code",
   "execution_count": null,
   "id": "fec2fbef",
   "metadata": {},
   "outputs": [],
   "source": [
    "wds.head()"
   ]
  },
  {
   "cell_type": "code",
   "execution_count": null,
   "id": "53397f4d",
   "metadata": {},
   "outputs": [],
   "source": [
    "# Renaming data in the \"Location_key column\" column\n",
    "new_name = {\n",
    "    \"GB\": \"UK\",\n",
    "}\n",
    "\n",
    "wds[\"location_key\"] = wds[\"location_key\"].replace(new_name)"
   ]
  },
  {
   "cell_type": "code",
   "execution_count": null,
   "id": "aab14de0",
   "metadata": {},
   "outputs": [],
   "source": [
    "wds.shape"
   ]
  },
  {
   "cell_type": "code",
   "execution_count": null,
   "id": "93b3485b",
   "metadata": {},
   "outputs": [],
   "source": [
    "# Merging the 'covid_19 data' with 'weather data' \n",
    "merged_data = pd.merge(df, wds, on=[\"location_key\",\"date\"], how='left')"
   ]
  },
  {
   "cell_type": "code",
   "execution_count": null,
   "id": "7516f928",
   "metadata": {},
   "outputs": [],
   "source": [
    "merged_data.shape"
   ]
  },
  {
   "cell_type": "code",
   "execution_count": null,
   "id": "2d2177a5",
   "metadata": {},
   "outputs": [],
   "source": [
    "merged_data.head()"
   ]
  },
  {
   "cell_type": "code",
   "execution_count": null,
   "id": "251daa0c",
   "metadata": {},
   "outputs": [],
   "source": [
    "merged_data.location_key.nunique()"
   ]
  },
  {
   "cell_type": "code",
   "execution_count": null,
   "id": "c8e31218",
   "metadata": {},
   "outputs": [],
   "source": [
    "merged_data.columns"
   ]
  },
  {
   "cell_type": "code",
   "execution_count": null,
   "id": "d9f28501",
   "metadata": {},
   "outputs": [],
   "source": [
    "merged_data.info()"
   ]
  },
  {
   "cell_type": "code",
   "execution_count": null,
   "id": "4f916ddd",
   "metadata": {},
   "outputs": [],
   "source": [
    "#Converting Quantity into float(useful for ML modelling later on)\n",
    "merged_data['cases']=merged_data['cases'].astype(float)\n"
   ]
  },
  {
   "cell_type": "code",
   "execution_count": null,
   "id": "3b9dd67e",
   "metadata": {},
   "outputs": [],
   "source": [
    "merged_data['deaths']=merged_data['deaths'].astype(float)"
   ]
  },
  {
   "cell_type": "code",
   "execution_count": null,
   "id": "58fa7970",
   "metadata": {},
   "outputs": [],
   "source": [
    "merged_data.head()"
   ]
  },
  {
   "cell_type": "markdown",
   "id": "35f7a40c",
   "metadata": {},
   "source": [
    "### Finding Correlation between data features"
   ]
  },
  {
   "cell_type": "code",
   "execution_count": null,
   "id": "b5cbe1fe",
   "metadata": {},
   "outputs": [],
   "source": [
    "corrdata = merged_data[[\"location_key\",\"countriesAndTerritories\",\"cases\",\"average_temperature_celsius\",\"minimum_temperature_celsius\",\"maximum_temperature_celsius\",\"rainfall_mm\",\"snowfall_mm\",\"dew_point\",\"relative_humidity\"]]"
   ]
  },
  {
   "cell_type": "code",
   "execution_count": null,
   "id": "095a8558",
   "metadata": {},
   "outputs": [],
   "source": [
    "corrdata"
   ]
  },
  {
   "cell_type": "code",
   "execution_count": null,
   "id": "81cd7b89",
   "metadata": {},
   "outputs": [],
   "source": [
    "merged_data.countriesAndTerritories.unique()"
   ]
  },
  {
   "cell_type": "code",
   "execution_count": null,
   "id": "c6da9f7f",
   "metadata": {},
   "outputs": [],
   "source": [
    "Country = input('Country Name: ')\n",
    "\n",
    "def corr_(Country):\n",
    "    \n",
    "        corrby_c = corrdata[corrdata['countriesAndTerritories'] == Country].corr(\"pearson\")      \n",
    "        sns.heatmap(corrby_c,\n",
    "           cmap = \"rocket\",\n",
    "           linewidths = 2,\n",
    "           linecolor = \"black\",\n",
    "           annot = True)\n",
    "        return\n",
    "    \n",
    "corr_(Country)"
   ]
  },
  {
   "cell_type": "code",
   "execution_count": null,
   "id": "d0f842bf",
   "metadata": {},
   "outputs": [],
   "source": []
  },
  {
   "cell_type": "code",
   "execution_count": null,
   "id": "b6f497bd",
   "metadata": {},
   "outputs": [],
   "source": [
    "# Save DataFrame to a CSV file\n",
    "#merged_data.to_csv('mergeddata.csv', index=False)  # Set index=False to exclude the index column"
   ]
  },
  {
   "cell_type": "code",
   "execution_count": null,
   "id": "51b8be02",
   "metadata": {},
   "outputs": [],
   "source": []
  },
  {
   "cell_type": "code",
   "execution_count": null,
   "id": "bd6b4b84",
   "metadata": {},
   "outputs": [],
   "source": []
  }
 ],
 "metadata": {
  "kernelspec": {
   "display_name": "Python 3 (ipykernel)",
   "language": "python",
   "name": "python3"
  },
  "language_info": {
   "codemirror_mode": {
    "name": "ipython",
    "version": 3
   },
   "file_extension": ".py",
   "mimetype": "text/x-python",
   "name": "python",
   "nbconvert_exporter": "python",
   "pygments_lexer": "ipython3",
   "version": "3.11.4"
  }
 },
 "nbformat": 4,
 "nbformat_minor": 5
}
